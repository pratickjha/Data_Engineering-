{
 "cells": [
  {
   "cell_type": "markdown",
   "metadata": {},
   "source": [
    "<p style=\"text-align:center\">\n",
    "    <a href=\"https://skills.network/?utm_medium=Exinfluencer&utm_source=Exinfluencer&utm_content=000026UJ&utm_term=10006555&utm_id=NA-SkillsNetwork-Channel-SkillsNetworkCoursesIBMDeveloperSkillsNetworkPY0221ENSkillsNetwork23455645-2022-01-01\" target=\"_blank\">\n",
    "    <img src=\"https://cf-courses-data.s3.us.cloud-object-storage.appdomain.cloud/assets/logos/SN_web_lightmode.png\" width=\"200\" alt=\"Skills Network Logo\"  />\n",
    "    </a>\n",
    "</p>\n"
   ]
  },
  {
   "cell_type": "markdown",
   "metadata": {},
   "source": [
    "# Peer Review Assignment - Data Engineer - Extract API Data\n"
   ]
  },
  {
   "cell_type": "markdown",
   "metadata": {},
   "source": [
    "Estimated time needed: **20** minutes\n"
   ]
  },
  {
   "cell_type": "markdown",
   "metadata": {},
   "source": [
    "## Objectives\n",
    "\n",
    "In this part you will:\n",
    "\n",
    "*   Collect exchange rate data using an API\n",
    "*   Store the data as a CSV\n"
   ]
  },
  {
   "cell_type": "markdown",
   "metadata": {},
   "source": [
    "For this lab, we are going to be using Python and several Python libraries. Some of these libraries might be installed in your lab environment or in SN Labs. Others may need to be installed by you. The cells below will install these libraries when executed.\n"
   ]
  },
  {
   "cell_type": "code",
   "execution_count": 2,
   "metadata": {},
   "outputs": [
    {
     "name": "stdout",
     "output_type": "stream",
     "text": [
      "Requirement already satisfied: pandas in c:\\users\\user\\anaconda3\\lib\\site-packages (1.3.4)\n",
      "Requirement already satisfied: numpy>=1.17.3; platform_machine != \"aarch64\" and platform_machine != \"arm64\" and python_version < \"3.10\" in c:\\users\\user\\anaconda3\\lib\\site-packages (from pandas) (1.21.4)\n",
      "Requirement already satisfied: pytz>=2017.3 in c:\\users\\user\\anaconda3\\lib\\site-packages (from pandas) (2018.9)\n",
      "Requirement already satisfied: python-dateutil>=2.7.3 in c:\\users\\user\\anaconda3\\lib\\site-packages (from pandas) (2.8.0)\n",
      "Requirement already satisfied: six>=1.5 in c:\\users\\user\\anaconda3\\lib\\site-packages (from python-dateutil>=2.7.3->pandas) (1.12.0)\n",
      "Requirement already satisfied: requests in c:\\users\\user\\anaconda3\\lib\\site-packages (2.21.0)"
     ]
    },
    {
     "name": "stderr",
     "output_type": "stream",
     "text": [
      "conda 4.12.0 requires ruamel_yaml_conda>=0.11.14, which is not installed.\n",
      "ibm-cloud-sdk-core 3.15.1 has requirement requests<3.0.0,>=2.26.0, but you'll have requests 2.21.0 which is incompatible.\n",
      "ibm-cloud-sdk-core 3.15.1 has requirement urllib3<2.0.0,>=1.26.0, but you'll have urllib3 1.24.3 which is incompatible.\n"
     ]
    },
    {
     "name": "stdout",
     "output_type": "stream",
     "text": [
      "\n",
      "Collecting urllib3<1.25,>=1.21.1 (from requests)\n",
      "  Downloading https://files.pythonhosted.org/packages/01/11/525b02e4acc0c747de8b6ccdab376331597c569c42ea66ab0a1dbd36eca2/urllib3-1.24.3-py2.py3-none-any.whl (118kB)\n",
      "Requirement already satisfied: chardet<3.1.0,>=3.0.2 in c:\\users\\user\\anaconda3\\lib\\site-packages (from requests) (3.0.4)\n",
      "Requirement already satisfied: idna<2.9,>=2.5 in c:\\users\\user\\anaconda3\\lib\\site-packages (from requests) (2.8)\n",
      "Requirement already satisfied: certifi>=2017.4.17 in c:\\users\\user\\anaconda3\\lib\\site-packages (from requests) (2022.5.18.1)\n",
      "Installing collected packages: urllib3\n",
      "  Found existing installation: urllib3 1.26.9\n",
      "    Uninstalling urllib3-1.26.9:\n",
      "      Successfully uninstalled urllib3-1.26.9\n",
      "Successfully installed urllib3-1.24.3\n"
     ]
    }
   ],
   "source": [
    "!pip install pandas\n",
    "!pip install requests"
   ]
  },
  {
   "cell_type": "markdown",
   "metadata": {},
   "source": [
    "## Imports\n",
    "\n",
    "Import any additional libraries you may need here.\n"
   ]
  },
  {
   "cell_type": "code",
   "execution_count": 3,
   "metadata": {},
   "outputs": [],
   "source": [
    "import requests\n",
    "import pandas as pd"
   ]
  },
  {
   "cell_type": "markdown",
   "metadata": {},
   "source": [
    "## Extract Data Using an API\n"
   ]
  },
  {
   "cell_type": "markdown",
   "metadata": {},
   "source": [
    "Using ExchangeRate-API we will extract currency exchange rate data. Use the below steps to get the access key and to get the data.\n",
    "\n",
    "1.  Open the url : [https://exchangeratesapi.io/](https://exchangeratesapi.io/?utm_medium=Exinfluencer&utm_source=Exinfluencer&utm_content=000026UJ&utm_term=10006555&utm_id=NA-SkillsNetwork-Channel-SkillsNetworkCoursesIBMDeveloperSkillsNetworkPY0221ENSkillsNetwork23455645-2022-01-01) and click on **Get Free API Key**.\n",
    "2.  Subscribe for Free plan and Sign-in with the Google Account.\n",
    "3.  Once the account is created you will be redirected to [https://apilayer.com](https://apilayer.com/?utm_medium=Exinfluencer&utm_source=Exinfluencer&utm_content=000026UJ&utm_term=10006555&utm_id=NA-SkillsNetwork-Channel-SkillsNetworkCoursesIBMDeveloperSkillsNetworkPY0221ENSkillsNetwork23455645-2022-01-01) website.\n",
    "4.  Now, click on the **user icon** and click **Account** as shown below:\n",
    "\n",
    "<img src=\"https://cf-courses-data.s3.us.cloud-object-storage.appdomain.cloud/IBMDeveloperSkillsNetwork-PY0221EN-SkillsNetwork/labs/module%206/Final%20Assignment/Images/account.png\"/>\n",
    "\n",
    "3.  Scroll down and you will get the API Key section. Copy the API key and use in the url in Question 1.\n"
   ]
  },
  {
   "cell_type": "markdown",
   "metadata": {},
   "source": [
    "### Call the API\n",
    "\n",
    "<b> Question 1</b> Using the `requests` library call the endpoint given above and save the text, remember the first few characters of the output:\n"
   ]
  },
  {
   "cell_type": "code",
   "execution_count": 28,
   "metadata": {},
   "outputs": [
    {
     "data": {
      "text/plain": [
       "'{\\n    \"success\": true,\\n    \"timestamp\": 1654487343,\\n    \"base\": \"EUR\",\\n    \"date\": \"2022-06-06\",\\n    \"rates\": {\\n        \"AED\": 3.939196,\\n        \"AFN\": 95.651244,\\n        \"ALL\": 120.38967,\\n        \"AMD\": 479.835294,\\n        \"ANG\": 1.937143,\\n        \"AOA\": 457.049591,\\n        \"ARS\": 129.394264,\\n        \"AUD\": 1.490333,\\n        \"AWG\": 1.930935,\\n        \"AZN\": 1.829322,\\n        \"BAM\": 1.957324,\\n        \"BBD\": 2.170216,\\n        \"BDT\": 95.702467,\\n        \"BGN\": 1.95336,\\n        \"BHD\": 0.405202,\\n        \"BIF\": 2210.206537,\\n        \"BMD\": 1.072444,\\n        \"BND\": 1.4767,\\n        \"BOB\": 7.400619,\\n        \"BRL\": 5.121959,\\n        \"BSD\": 1.074901,\\n        \"BTC\": 3.4405619e-05,\\n        \"BTN\": 83.431732,\\n        \"BWP\": 12.872688,\\n        \"BYN\": 3.629403,\\n        \"BYR\": 21019.898296,\\n        \"BZD\": 2.166614,\\n        \"CAD\": 1.349617,\\n        \"CDF\": 2148.644348,\\n        \"CHF\": 1.031366,\\n        \"CLF\": 0.031552,\\n        \"CLP\": 870.620961,\\n        \"CNY\": 7.138511,\\n        \"COP\": 4055.296052,\\n        \"CRC\": 733.906637,\\n        \"CUC\": 1.072444,\\n        \"CUP\": 28.41976,\\n        \"CVE\": 110.351309,\\n        \"CZK\": 24.654735,\\n        \"DJF\": 191.352526,\\n        \"DKK\": 7.438497,\\n        \"DOP\": 59.225113,\\n        \"DZD\": 155.996191,\\n        \"EGP\": 19.971071,\\n        \"ERN\": 16.086658,\\n        \"ETB\": 55.863809,\\n        \"EUR\": 1,\\n        \"FJD\": 2.291602,\\n        \"FKP\": 0.877614,\\n        \"GBP\": 0.858223,\\n        \"GEL\": 3.179828,\\n        \"GGP\": 0.877614,\\n        \"GHS\": 8.411179,\\n        \"GIP\": 0.877614,\\n        \"GMD\": 58.072606,\\n        \"GNF\": 9516.288037,\\n        \"GTQ\": 8.271369,\\n        \"GYD\": 224.88589,\\n        \"HKD\": 8.41426,\\n        \"HNL\": 26.414674,\\n        \"HRK\": 7.522338,\\n        \"HTG\": 122.53584,\\n        \"HUF\": 391.699679,\\n        \"IDR\": 15511.826987,\\n        \"ILS\": 3.576659,\\n        \"IMP\": 0.877614,\\n        \"INR\": 83.250969,\\n        \"IQD\": 1568.76115,\\n        \"IRR\": 45364.372218,\\n        \"ISK\": 138.313226,\\n        \"JEP\": 0.877614,\\n        \"JMD\": 165.400195,\\n        \"JOD\": 0.761645,\\n        \"JPY\": 139.994133,\\n        \"KES\": 125.497448,\\n        \"KGS\": 85.25907,\\n        \"KHR\": 4364.929037,\\n        \"KMF\": 491.983641,\\n        \"KPW\": 965.19965,\\n        \"KRW\": 1344.608389,\\n        \"KWD\": 0.328457,\\n        \"KYD\": 0.895688,\\n        \"KZT\": 467.30896,\\n        \"LAK\": 14999.702328,\\n        \"LBP\": 1625.210509,\\n        \"LKR\": 387.494538,\\n        \"LRD\": 163.011196,\\n        \"LSL\": 16.611923,\\n        \"LTL\": 3.166648,\\n        \"LVL\": 0.648711,\\n        \"LYD\": 5.134324,\\n        \"MAD\": 10.59789,\\n        \"MDL\": 20.454735,\\n        \"MGA\": 4350.520407,\\n        \"MKD\": 61.677089,\\n        \"MMK\": 1990.113701,\\n        \"MNT\": 3298.591294,\\n        \"MOP\": 8.684228,\\n        \"MRO\": 382.862249,\\n        \"MUR\": 46.297105,\\n        \"MVR\": 16.553172,\\n        \"MWK\": 1098.480183,\\n        \"MXN\": 20.936055,\\n        \"MYR\": 4.709084,\\n        \"MZN\": 68.454074,\\n        \"NAD\": 16.612086,\\n        \"NGN\": 445.192961,\\n        \"NIO\": 38.533701,\\n        \"NOK\": 10.113418,\\n        \"NPR\": 133.484423,\\n        \"NZD\": 1.649091,\\n        \"OMR\": 0.413048,\\n        \"PAB\": 1.074826,\\n        \"PEN\": 3.983742,\\n        \"PGK\": 3.787421,\\n        \"PHP\": 56.738176,\\n        \"PKR\": 212.554718,\\n        \"PLN\": 4.584643,\\n        \"PYG\": 7360.582398,\\n        \"QAR\": 3.904733,\\n        \"RON\": 4.945039,\\n        \"RSD\": 117.500779,\\n        \"RUB\": 65.338606,\\n        \"RWF\": 1096.846967,\\n        \"SAR\": 4.022816,\\n        \"SBD\": 8.704993,\\n        \"SCR\": 15.369161,\\n        \"SDG\": 488.486718,\\n        \"SEK\": 10.472586,\\n        \"SGD\": 1.475055,\\n        \"SHP\": 1.477183,\\n        \"SLL\": 13979.305182,\\n        \"SOS\": 625.234639,\\n        \"SRD\": 22.899885,\\n        \"STD\": 22197.42121,\\n        \"SVC\": 9.405181,\\n        \"SYP\": 2694.461957,\\n        \"SZL\": 16.641095,\\n        \"THB\": 36.874923,\\n        \"TJS\": 12.039028,\\n        \"TMT\": 3.764278,\\n        \"TND\": 3.238478,\\n        \"TOP\": 2.465765,\\n        \"TRY\": 17.685345,\\n        \"TTD\": 7.285997,\\n        \"TWD\": 31.557191,\\n        \"TZS\": 2500.45528,\\n        \"UAH\": 31.601037,\\n        \"UGX\": 4018.543024,\\n        \"USD\": 1.072444,\\n        \"UYU\": 43.050072,\\n        \"UZS\": 11817.792271,\\n        \"VEF\": 229320894186.62857,\\n        \"VND\": 24875.333723,\\n        \"VUV\": 122.543501,\\n        \"WST\": 2.7662,\\n        \"XAF\": 656.445942,\\n        \"XAG\": 0.048194,\\n        \"XAU\": 0.000578,\\n        \"XCD\": 2.898333,\\n        \"XDR\": 0.797294,\\n        \"XOF\": 656.445942,\\n        \"XPF\": 119.569086,\\n        \"YER\": 268.379123,\\n        \"ZAR\": 16.633174,\\n        \"ZMK\": 9653.284676,\\n        \"ZMW\": 18.27271,\\n        \"ZWL\": 345.326463\\n    }\\n}\\n'"
      ]
     },
     "execution_count": 28,
     "metadata": {},
     "output_type": "execute_result"
    }
   ],
   "source": [
    "# Write your code here\n",
    "url = \"https://api.apilayer.com/exchangerates_data/latest?base=EUR&apikey=chxJQvzZxIOwdiNu3T2yHEc9sq5MCcUM\" #Make sure to change ******* to your API key.\n",
    "data1  = requests.get(url).text\n",
    "data1"
   ]
  },
  {
   "cell_type": "markdown",
   "metadata": {},
   "source": [
    "### Save as DataFrame\n",
    "\n",
    "<b> Question 2</b>  Using the data gathered turn it into a `pandas` dataframe. The dataframe should have the Currency as the index and `Rate` as their columns. Make sure to drop unnecessary columns.\n"
   ]
  },
  {
   "cell_type": "code",
   "execution_count": 47,
   "metadata": {},
   "outputs": [
    {
     "data": {
      "text/html": [
       "<div>\n",
       "<style scoped>\n",
       "    .dataframe tbody tr th:only-of-type {\n",
       "        vertical-align: middle;\n",
       "    }\n",
       "\n",
       "    .dataframe tbody tr th {\n",
       "        vertical-align: top;\n",
       "    }\n",
       "\n",
       "    .dataframe thead th {\n",
       "        text-align: right;\n",
       "    }\n",
       "</style>\n",
       "<table border=\"1\" class=\"dataframe\">\n",
       "  <thead>\n",
       "    <tr style=\"text-align: right;\">\n",
       "      <th></th>\n",
       "      <th>success</th>\n",
       "      <th>timestamp</th>\n",
       "      <th>base</th>\n",
       "      <th>date</th>\n",
       "      <th>rates</th>\n",
       "    </tr>\n",
       "  </thead>\n",
       "  <tbody>\n",
       "    <tr>\n",
       "      <th>AED</th>\n",
       "      <td>True</td>\n",
       "      <td>2022-06-06 03:49:03</td>\n",
       "      <td>EUR</td>\n",
       "      <td>2022-06-06</td>\n",
       "      <td>3.939196</td>\n",
       "    </tr>\n",
       "    <tr>\n",
       "      <th>AFN</th>\n",
       "      <td>True</td>\n",
       "      <td>2022-06-06 03:49:03</td>\n",
       "      <td>EUR</td>\n",
       "      <td>2022-06-06</td>\n",
       "      <td>95.651244</td>\n",
       "    </tr>\n",
       "    <tr>\n",
       "      <th>ALL</th>\n",
       "      <td>True</td>\n",
       "      <td>2022-06-06 03:49:03</td>\n",
       "      <td>EUR</td>\n",
       "      <td>2022-06-06</td>\n",
       "      <td>120.389670</td>\n",
       "    </tr>\n",
       "    <tr>\n",
       "      <th>AMD</th>\n",
       "      <td>True</td>\n",
       "      <td>2022-06-06 03:49:03</td>\n",
       "      <td>EUR</td>\n",
       "      <td>2022-06-06</td>\n",
       "      <td>479.835294</td>\n",
       "    </tr>\n",
       "    <tr>\n",
       "      <th>ANG</th>\n",
       "      <td>True</td>\n",
       "      <td>2022-06-06 03:49:03</td>\n",
       "      <td>EUR</td>\n",
       "      <td>2022-06-06</td>\n",
       "      <td>1.937143</td>\n",
       "    </tr>\n",
       "    <tr>\n",
       "      <th>...</th>\n",
       "      <td>...</td>\n",
       "      <td>...</td>\n",
       "      <td>...</td>\n",
       "      <td>...</td>\n",
       "      <td>...</td>\n",
       "    </tr>\n",
       "    <tr>\n",
       "      <th>YER</th>\n",
       "      <td>True</td>\n",
       "      <td>2022-06-06 03:49:03</td>\n",
       "      <td>EUR</td>\n",
       "      <td>2022-06-06</td>\n",
       "      <td>268.379123</td>\n",
       "    </tr>\n",
       "    <tr>\n",
       "      <th>ZAR</th>\n",
       "      <td>True</td>\n",
       "      <td>2022-06-06 03:49:03</td>\n",
       "      <td>EUR</td>\n",
       "      <td>2022-06-06</td>\n",
       "      <td>16.633174</td>\n",
       "    </tr>\n",
       "    <tr>\n",
       "      <th>ZMK</th>\n",
       "      <td>True</td>\n",
       "      <td>2022-06-06 03:49:03</td>\n",
       "      <td>EUR</td>\n",
       "      <td>2022-06-06</td>\n",
       "      <td>9653.284676</td>\n",
       "    </tr>\n",
       "    <tr>\n",
       "      <th>ZMW</th>\n",
       "      <td>True</td>\n",
       "      <td>2022-06-06 03:49:03</td>\n",
       "      <td>EUR</td>\n",
       "      <td>2022-06-06</td>\n",
       "      <td>18.272710</td>\n",
       "    </tr>\n",
       "    <tr>\n",
       "      <th>ZWL</th>\n",
       "      <td>True</td>\n",
       "      <td>2022-06-06 03:49:03</td>\n",
       "      <td>EUR</td>\n",
       "      <td>2022-06-06</td>\n",
       "      <td>345.326463</td>\n",
       "    </tr>\n",
       "  </tbody>\n",
       "</table>\n",
       "<p>168 rows × 5 columns</p>\n",
       "</div>"
      ],
      "text/plain": [
       "     success           timestamp base       date        rates\n",
       "AED     True 2022-06-06 03:49:03  EUR 2022-06-06     3.939196\n",
       "AFN     True 2022-06-06 03:49:03  EUR 2022-06-06    95.651244\n",
       "ALL     True 2022-06-06 03:49:03  EUR 2022-06-06   120.389670\n",
       "AMD     True 2022-06-06 03:49:03  EUR 2022-06-06   479.835294\n",
       "ANG     True 2022-06-06 03:49:03  EUR 2022-06-06     1.937143\n",
       "..       ...                 ...  ...        ...          ...\n",
       "YER     True 2022-06-06 03:49:03  EUR 2022-06-06   268.379123\n",
       "ZAR     True 2022-06-06 03:49:03  EUR 2022-06-06    16.633174\n",
       "ZMK     True 2022-06-06 03:49:03  EUR 2022-06-06  9653.284676\n",
       "ZMW     True 2022-06-06 03:49:03  EUR 2022-06-06    18.272710\n",
       "ZWL     True 2022-06-06 03:49:03  EUR 2022-06-06   345.326463\n",
       "\n",
       "[168 rows x 5 columns]"
      ]
     },
     "execution_count": 47,
     "metadata": {},
     "output_type": "execute_result"
    }
   ],
   "source": [
    "# Turn the data into a dataframe\n",
    "data  = pd.read_json(data1)\n",
    "data"
   ]
  },
  {
   "cell_type": "code",
   "execution_count": 50,
   "metadata": {},
   "outputs": [
    {
     "data": {
      "text/html": [
       "<div>\n",
       "<style scoped>\n",
       "    .dataframe tbody tr th:only-of-type {\n",
       "        vertical-align: middle;\n",
       "    }\n",
       "\n",
       "    .dataframe tbody tr th {\n",
       "        vertical-align: top;\n",
       "    }\n",
       "\n",
       "    .dataframe thead th {\n",
       "        text-align: right;\n",
       "    }\n",
       "</style>\n",
       "<table border=\"1\" class=\"dataframe\">\n",
       "  <thead>\n",
       "    <tr style=\"text-align: right;\">\n",
       "      <th></th>\n",
       "      <th>rates</th>\n",
       "    </tr>\n",
       "  </thead>\n",
       "  <tbody>\n",
       "    <tr>\n",
       "      <th>AED</th>\n",
       "      <td>3.939196</td>\n",
       "    </tr>\n",
       "    <tr>\n",
       "      <th>AFN</th>\n",
       "      <td>95.651244</td>\n",
       "    </tr>\n",
       "    <tr>\n",
       "      <th>ALL</th>\n",
       "      <td>120.389670</td>\n",
       "    </tr>\n",
       "    <tr>\n",
       "      <th>AMD</th>\n",
       "      <td>479.835294</td>\n",
       "    </tr>\n",
       "    <tr>\n",
       "      <th>ANG</th>\n",
       "      <td>1.937143</td>\n",
       "    </tr>\n",
       "    <tr>\n",
       "      <th>...</th>\n",
       "      <td>...</td>\n",
       "    </tr>\n",
       "    <tr>\n",
       "      <th>YER</th>\n",
       "      <td>268.379123</td>\n",
       "    </tr>\n",
       "    <tr>\n",
       "      <th>ZAR</th>\n",
       "      <td>16.633174</td>\n",
       "    </tr>\n",
       "    <tr>\n",
       "      <th>ZMK</th>\n",
       "      <td>9653.284676</td>\n",
       "    </tr>\n",
       "    <tr>\n",
       "      <th>ZMW</th>\n",
       "      <td>18.272710</td>\n",
       "    </tr>\n",
       "    <tr>\n",
       "      <th>ZWL</th>\n",
       "      <td>345.326463</td>\n",
       "    </tr>\n",
       "  </tbody>\n",
       "</table>\n",
       "<p>168 rows × 1 columns</p>\n",
       "</div>"
      ],
      "text/plain": [
       "           rates\n",
       "AED     3.939196\n",
       "AFN    95.651244\n",
       "ALL   120.389670\n",
       "AMD   479.835294\n",
       "ANG     1.937143\n",
       "..           ...\n",
       "YER   268.379123\n",
       "ZAR    16.633174\n",
       "ZMK  9653.284676\n",
       "ZMW    18.272710\n",
       "ZWL   345.326463\n",
       "\n",
       "[168 rows x 1 columns]"
      ]
     },
     "execution_count": 50,
     "metadata": {},
     "output_type": "execute_result"
    }
   ],
   "source": [
    "# Drop unnescessary columns\n",
    "final_exchange_rate = data.drop(labels= ['success','timestamp','base','date'],axis=1)\n",
    "final_exchange_rate"
   ]
  },
  {
   "cell_type": "markdown",
   "metadata": {},
   "source": [
    "### Load the Data\n",
    "\n",
    "Using the dataframe save it as a CSV names `exchange_rates_1.csv`.\n"
   ]
  },
  {
   "cell_type": "code",
   "execution_count": 51,
   "metadata": {},
   "outputs": [],
   "source": [
    "# Save the Dataframe\n",
    "final_exchange_rate.to_csv(\"exchange_rates_1.csv\")"
   ]
  },
  {
   "cell_type": "markdown",
   "metadata": {},
   "source": [
    "Your CSV should be in this format with more currencies\n",
    "\n",
    "|     | Rates      |\n",
    "| --- | ---------- |\n",
    "| AED | 4.398618   |\n",
    "| AFN | 92.917693  |\n",
    "| ALL | 123.099093 |\n",
    "| AMD | 621.935674 |\n",
    "| ANG | 2.149648   |\n"
   ]
  },
  {
   "cell_type": "markdown",
   "metadata": {},
   "source": [
    "## Authors\n"
   ]
  },
  {
   "cell_type": "markdown",
   "metadata": {},
   "source": [
    "Ramesh Sannareddy, Joseph Santarcangelo and Azim Hirjani\n"
   ]
  },
  {
   "cell_type": "markdown",
   "metadata": {},
   "source": [
    "### Other Contributors\n"
   ]
  },
  {
   "cell_type": "markdown",
   "metadata": {},
   "source": [
    "Rav Ahuja\n"
   ]
  },
  {
   "cell_type": "markdown",
   "metadata": {},
   "source": [
    "## Change Log\n"
   ]
  },
  {
   "cell_type": "markdown",
   "metadata": {},
   "source": [
    "| Date (YYYY-MM-DD) | Version | Changed By        | Change Description                              |\n",
    "| ----------------- | ------- | ----------------- | ----------------------------------------------- |\n",
    "| 2022-05-06        | 0.3     | Malika            | Updated instructions to get the API and the url |\n",
    "| 2021-04-15        | 0.2     | Malika            | Updated the lab from USD to EUR                 |\n",
    "| 2020-11-25        | 0.1     | Ramesh Sannareddy | Created initial version of the lab              |\n"
   ]
  },
  {
   "cell_type": "markdown",
   "metadata": {},
   "source": [
    "Copyright © 2020 IBM Corporation. This notebook and its source code are released under the terms of the [MIT License](https://cognitiveclass.ai/mit-license?utm_medium=Exinfluencer&utm_source=Exinfluencer&utm_content=000026UJ&utm_term=10006555&utm_id=NA-SkillsNetwork-Channel-SkillsNetworkCoursesIBMDeveloperSkillsNetworkPY0221ENSkillsNetwork23455645-2022-01-01&cm_mmc=Email_Newsletter-\\_-Developer_Ed%2BTech-\\_-WW_WW-\\_-SkillsNetwork-Courses-IBM-DA0321EN-SkillsNetwork-21426264&cm_mmca1=000026UJ&cm_mmca2=10006555&cm_mmca3=M12345678&cvosrc=email.Newsletter.M12345678&cvo_campaign=000026UJ).\n"
   ]
  }
 ],
 "metadata": {
  "kernelspec": {
   "display_name": "Python 3",
   "language": "python",
   "name": "python3"
  },
  "language_info": {
   "codemirror_mode": {
    "name": "ipython",
    "version": 3
   },
   "file_extension": ".py",
   "mimetype": "text/x-python",
   "name": "python",
   "nbconvert_exporter": "python",
   "pygments_lexer": "ipython3",
   "version": "3.7.3"
  }
 },
 "nbformat": 4,
 "nbformat_minor": 4
}
